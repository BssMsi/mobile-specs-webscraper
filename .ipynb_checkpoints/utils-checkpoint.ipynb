{
 "cells": [
  {
   "cell_type": "code",
   "execution_count": 1,
   "metadata": {
    "collapsed": true
   },
   "outputs": [],
   "source": [
    "# Backup files\n",
    "import shutil\n",
    "import os\n",
    "run_success_backup_dir = \"./backups/successful/\"\n",
    "runs = sorted(os.listdir(run_success_backup_dir))\n",
    "if '.ipynb_checkpoints' in runs:\n",
    "    runs.remove('.ipynb_checkpoints')\n",
    "runs.remove('1_with_proxy_interrupted')\n",
    "runs.remove('2_with_proxy_interrupted')\n",
    "runs.remove('3_with_proxy_interrupted')\n",
    "runs.remove('4_with_proxy_interrupted')\n",
    "runs.remove('5_with_proxy_finish')\n",
    "runs.remove('6_with_proxy_finish')\n",
    "runs.remove('semi-final-run')\n",
    "n = sorted(map(int, runs))[-1]+1\n",
    "os.mkdir(os.path.join(run_success_backup_dir, str(n)))\n",
    "success_backup_files = ['gsmarena_data.csv', 'mylog.log', 'visited_models.txt']\n",
    "for f in success_backup_files:\n",
    "    shutil.copyfile(f, os.path.join(run_success_backup_dir, str(n), f))"
   ]
  },
  {
   "cell_type": "code",
   "execution_count": null,
   "metadata": {
    "collapsed": true
   },
   "outputs": [],
   "source": []
  },
  {
   "cell_type": "code",
   "execution_count": 1,
   "metadata": {
    "collapsed": true
   },
   "outputs": [],
   "source": [
    "import pandas as pd"
   ]
  },
  {
   "cell_type": "code",
   "execution_count": 2,
   "metadata": {
    "collapsed": true
   },
   "outputs": [],
   "source": [
    "all_brands = pd.read_csv('gsmarena_brands.csv', header=0)"
   ]
  },
  {
   "cell_type": "code",
   "execution_count": 9,
   "metadata": {
    "collapsed": true
   },
   "outputs": [],
   "source": [
    "all_brands[\"no_models\"] = all_brands[\"no_models\"].apply(lambda x: x.split(\" \")[0]).astype(int)"
   ]
  },
  {
   "cell_type": "code",
   "execution_count": 11,
   "metadata": {},
   "outputs": [
    {
     "data": {
      "text/plain": [
       "10158"
      ]
     },
     "execution_count": 11,
     "metadata": {},
     "output_type": "execute_result"
    }
   ],
   "source": [
    "all_brands[\"no_models\"].sum()"
   ]
  }
 ],
 "metadata": {
  "kernelspec": {
   "display_name": "Python 3",
   "language": "python",
   "name": "python3"
  },
  "language_info": {
   "codemirror_mode": {
    "name": "ipython",
    "version": 3
   },
   "file_extension": ".py",
   "mimetype": "text/x-python",
   "name": "python",
   "nbconvert_exporter": "python",
   "pygments_lexer": "ipython3",
   "version": "3.6.2"
  }
 },
 "nbformat": 4,
 "nbformat_minor": 4
}
